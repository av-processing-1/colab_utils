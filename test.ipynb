{
  "nbformat": 4,
  "nbformat_minor": 0,
  "metadata": {
    "colab": {
      "name": "colabutils_test.ipynb",
      "version": "0.3.2",
      "provenance": [],
      "collapsed_sections": [
        "dRwDJESBasHG",
        "ydcJ15mUa56l",
        "tYzFNiMzbN_4",
        "CDemvGRGbl2m",
        "zLtm4eoTbcEJ"
      ],
      "include_colab_link": true
    },
    "kernelspec": {
      "name": "python3",
      "display_name": "Python 3"
    },
    "accelerator": "GPU"
  },
  "cells": [
    {
      "cell_type": "markdown",
      "metadata": {
        "id": "view-in-github",
        "colab_type": "text"
      },
      "source": [
        "<a href=\"https://colab.research.google.com/github/ssgalitsky/colab_utils/blob/master/test.ipynb\" target=\"_parent\"><img src=\"https://colab.research.google.com/assets/colab-badge.svg\" alt=\"Open In Colab\"/></a>"
      ]
    },
    {
      "cell_type": "markdown",
      "metadata": {
        "id": "dRwDJESBasHG",
        "colab_type": "text"
      },
      "source": [
        "#### Setup (run once per Colab session)"
      ]
    },
    {
      "cell_type": "code",
      "metadata": {
        "id": "y-TEi4P7NkAw",
        "colab_type": "code",
        "colab": {}
      },
      "source": [
        "!pip install --upgrade youtube-dl"
      ],
      "execution_count": 0,
      "outputs": []
    },
    {
      "cell_type": "code",
      "metadata": {
        "id": "uTsdimqQW74C",
        "colab_type": "code",
        "colab": {}
      },
      "source": [
        "!rm -Rf ./colabutils.py \n",
        "!git clone https://github.com/ssgalitsky/colab_utils.git ./colabutils\n",
        "!mv -f ./colabutils/colabutils.py ./\n",
        "!rm -Rf ./colabutils \n"
      ],
      "execution_count": 0,
      "outputs": []
    },
    {
      "cell_type": "markdown",
      "metadata": {
        "id": "ydcJ15mUa56l",
        "colab_type": "text"
      },
      "source": [
        "#### Download video and extract frames"
      ]
    },
    {
      "cell_type": "code",
      "metadata": {
        "id": "_X4LZlXWXWEe",
        "colab_type": "code",
        "colab": {}
      },
      "source": [
        "import colabutils"
      ],
      "execution_count": 0,
      "outputs": []
    },
    {
      "cell_type": "code",
      "metadata": {
        "id": "5dULt3U_Nq85",
        "colab_type": "code",
        "colab": {}
      },
      "source": [
        "frameURL=\"http://www.youtube.com/watch?v=RlNhD0oS5pk\"\n",
        "formats=\"18\"\n",
        "colabutils.youtubeDownload(frameURL, \"./test.mp4\",formats)\n"
      ],
      "execution_count": 0,
      "outputs": []
    },
    {
      "cell_type": "code",
      "metadata": {
        "id": "hGZzwYAyVTrj",
        "colab_type": "code",
        "colab": {}
      },
      "source": [
        "!mkdir ./out1\n",
        "colabutils.video2frames(\"./test.mp4\",\"./out1\")"
      ],
      "execution_count": 0,
      "outputs": []
    },
    {
      "cell_type": "markdown",
      "metadata": {
        "id": "tYzFNiMzbN_4",
        "colab_type": "text"
      },
      "source": [
        "#### Preprocess frames"
      ]
    },
    {
      "cell_type": "code",
      "metadata": {
        "id": "Afr1JxMnbTGT",
        "colab_type": "code",
        "colab": {}
      },
      "source": [
        ""
      ],
      "execution_count": 0,
      "outputs": []
    },
    {
      "cell_type": "markdown",
      "metadata": {
        "id": "PkGYUKM1bUwJ",
        "colab_type": "text"
      },
      "source": [
        "#### Process frames w/ NN"
      ]
    },
    {
      "cell_type": "code",
      "metadata": {
        "id": "BfWP_4QkbqH7",
        "colab_type": "code",
        "colab": {}
      },
      "source": [
        ""
      ],
      "execution_count": 0,
      "outputs": []
    },
    {
      "cell_type": "markdown",
      "metadata": {
        "id": "CDemvGRGbl2m",
        "colab_type": "text"
      },
      "source": [
        "#### Postprocess"
      ]
    },
    {
      "cell_type": "code",
      "metadata": {
        "id": "RPT3Bxu7bZ79",
        "colab_type": "code",
        "colab": {}
      },
      "source": [
        ""
      ],
      "execution_count": 0,
      "outputs": []
    },
    {
      "cell_type": "markdown",
      "metadata": {
        "id": "zLtm4eoTbcEJ",
        "colab_type": "text"
      },
      "source": [
        "####  Convert to video"
      ]
    },
    {
      "cell_type": "code",
      "metadata": {
        "id": "jKNuDtmJbj-G",
        "colab_type": "code",
        "colab": {}
      },
      "source": [
        ""
      ],
      "execution_count": 0,
      "outputs": []
    }
  ]
}