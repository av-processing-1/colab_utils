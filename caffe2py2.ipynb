{
  "nbformat": 4,
  "nbformat_minor": 0,
  "metadata": {
    "colab": {
      "name": "Untitled2.ipynb",
      "version": "0.3.2",
      "provenance": [],
      "include_colab_link": true
    },
    "kernelspec": {
      "name": "python2",
      "display_name": "Python 2"
    },
    "accelerator": "GPU"
  },
  "cells": [
    {
      "cell_type": "markdown",
      "metadata": {
        "id": "view-in-github",
        "colab_type": "text"
      },
      "source": [
        "<a href=\"https://colab.research.google.com/github/ssgalitsky/colab_utils/blob/master/caffe2py2.ipynb\" target=\"_parent\"><img src=\"https://colab.research.google.com/assets/colab-badge.svg\" alt=\"Open In Colab\"/></a>"
      ]
    },
    {
      "cell_type": "code",
      "metadata": {
        "id": "EIxQT7MPNbfm",
        "colab_type": "code",
        "colab": {
          "base_uri": "https://localhost:8080/",
          "height": 289
        },
        "outputId": "0e817020-d461-4714-a421-a5d73af26b1b"
      },
      "source": [
        "print \"Install deps and gcc\"\n",
        "\n",
        "with open('/etc/apt/sources.list') as f:\n",
        "  txt = f.read()\n",
        "with open('/etc/apt/sources.list', 'w') as f:\n",
        "  f.write(txt.replace('# deb-src','deb-src'))\n",
        "  \n",
        "t=!apt update\n",
        "t=!apt build-dep caffe-cuda\n",
        "t=!apt install g++-5\n",
        "\n",
        "t=!update-alternatives --remove-all gcc \n",
        "t=!update-alternatives --remove-all g++\n",
        "t=!update-alternatives --install /usr/bin/gcc gcc /usr/bin/gcc-5 20\n",
        "t=!update-alternatives --install /usr/bin/g++ g++ /usr/bin/g++-5 20\n",
        "t=!update-alternatives --install /usr/bin/cc cc /usr/bin/gcc 30\n",
        "t=!update-alternatives --set cc /usr/bin/gcc\n",
        "t=!update-alternatives --install /usr/bin/c++ c++ /usr/bin/g++ 30\n",
        "t=!update-alternatives --set c++ /usr/bin/g++\n",
        "\n",
        "print \"Get boost\"\n",
        "\n",
        "t=!wget https://dl.bintray.com/boostorg/release/1.67.0/source/boost_1_67_0.tar.bz2\n",
        "t=!tar --bzip2 -xf boost_1_67_0.tar.bz2\n",
        "\n",
        "print \"Compile boost\"\n",
        "\n",
        "t=!cd boost_1_67_0 && ./bootstrap.sh --exec-prefix=/usr/local --with-libraries=system,filesystem,regex,thread,python \\\n",
        "--with-python-version=2.7 --with-python-root=/usr\n",
        "t=!cd boost_1_67_0 && ./b2 install\n",
        "\n",
        "print \"Clone SSD-Caffe and configure it\"\n",
        "\n",
        "t=!git clone https://github.com/weiliu89/caffe.git && cd caffe && git checkout ssd\n",
        "  \n",
        "with open('caffe/Makefile.config.example') as f:\n",
        "  config = f.read()\n",
        "comment = ['CUDA_DIR := /usr/local/cuda', \n",
        "           'BLAS := open']\n",
        "uncomment = ['# CUDA_DIR := /usr', \n",
        "             '# BLAS := atlas', \n",
        "             '# OPENCV_VERSION := 3', '# WITH_PYTHON_LAYER := 1'] #\n",
        "replace = [('INCLUDE_DIRS := $(PYTHON_INCLUDE) /usr/local/include',\n",
        "            'INCLUDE_DIRS := $(PYTHON_INCLUDE) /usr/local/include /usr/include/hdf5/serial /usr/local/lib/python2.7/dist-packages/numpy/core/include/'), \n",
        "           ('LIBRARY_DIRS := $(PYTHON_LIB) /usr/local/lib /usr/lib',\n",
        "            'LIBRARY_DIRS := $(PYTHON_LIB) /usr/local/lib /usr/lib /usr/lib/x86_64-linux-gnu/hdf5/serial')]\n",
        "for c in uncomment:\n",
        "  config = config.replace(c, c[2:])\n",
        "for c in comment:\n",
        "  config = config.replace(c, '# '+c)\n",
        "for c1,c2 in replace:\n",
        "  config = config.replace(c1, c2)\n",
        "with open('caffe/Makefile.config', 'w') as f:\n",
        "  f.write(config)\n",
        "  \n",
        "with open('caffe/Makefile') as f:\n",
        "  mfile = f.read()\n",
        "with open('caffe/Makefile', 'w') as f:\n",
        "  f.write(mfile.replace('-isystem','-I'))\n",
        "  \n",
        "with open('/usr/include/x86_64-linux-gnu/c++/5/bits/c++config.h') as f:\n",
        "  txt = f.read()\n",
        "with open('/usr/include/x86_64-linux-gnu/c++/5/bits/c++config.h', 'w') as f:\n",
        "  f.write(txt.replace('/* #undef _GLIBCXX_USE_C99_MATH */',\n",
        "                      '/* #undef _GLIBCXX_USE_C99_MATH */\\n#define  _GLIBCXX_USE_C99_MATH  1'))\n",
        "  \n",
        "print \"Make Caffe\"\n",
        "\n",
        "#t=!cd caffe && make -j8 && make pycaffe && make test -j8 && make distribute\n",
        "t=!cd caffe && make -j8 && make pycaffe && make distribute\n",
        "print '\\n'.join(t[-10:])\n",
        "\n",
        "t=!echo /usr/local/lib >> /etc/ld.so.conf && ldconfig\n",
        "t=!echo /content/caffe/distribute/lib >> /etc/ld.so.conf && ldconfig\n",
        "\n",
        "print \"DONE\""
      ],
      "execution_count": 1,
      "outputs": [
        {
          "output_type": "stream",
          "text": [
            "Install deps and gcc\n",
            "Get boost\n",
            "Compile boost\n",
            "Clone SSD-Caffe and configure it\n",
            "Make Caffe\n",
            "CXX src/caffe/util/db_lmdb.cpp\n",
            "CXX src/caffe/util/bbox_util.cpp\n",
            "CXX src/caffe/util/signal_handler.cpp\n",
            "CXX src/caffe/util/sampler.cpp\n",
            "CXX src/caffe/util/im_transforms.cpp\n",
            "NVCC src/caffe/layers/exp_layer.cu\n",
            "nvcc fatal   : Unsupported gpu architecture 'compute_20'\n",
            "Makefile:588: recipe for target '.build_release/cuda/src/caffe/layers/exp_layer.o' failed\n",
            "make: *** [.build_release/cuda/src/caffe/layers/exp_layer.o] Error 1\n",
            "make: *** Waiting for unfinished jobs....\n",
            "DONE\n"
          ],
          "name": "stdout"
        }
      ]
    }
  ]
}